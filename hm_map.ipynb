{
 "cells": [
  {
   "cell_type": "markdown",
   "id": "7b835754",
   "metadata": {},
   "source": [
    "# Контейнер map"
   ]
  },
  {
   "cell_type": "markdown",
   "id": "5da976e8",
   "metadata": {},
   "source": [
    "Реализовать структуру данных map (аналогичную словарям в Python) с базовым набором операций. Предоставить возможность пользователю кастомизировать способ разрешения коллизий (метод цепочек и открытой адрессации)."
   ]
  },
  {
   "cell_type": "code",
   "execution_count": 1,
   "id": "040a9700",
   "metadata": {},
   "outputs": [],
   "source": [
    "class MyMap: #Класс MyMap, представляет структуру данных \"карта\"\n",
    "    def __init__(self, size, method='chaining'): #Метод инициализации класса. Принимает размер карты и метод разрешения коллизий\n",
    "        self.size = size\n",
    "        self.map = [None] * size\n",
    "        self.method = method\n",
    "\n",
    "    def hash_fun(self, key): #Метод для вычисления хеш-функции от ключа\n",
    "        return hash(key) % self.size\n",
    "\n",
    "    def insert(self, key, value): #Метод для добавления элемента в карту\n",
    "        index = self.hash_fun(key)\n",
    "        \n",
    "        if self.method == 'chaining': #Проверка метода разрешения коллизий\n",
    "            if self.map[index] is None:\n",
    "                self.map[index] = [(key, value)]\n",
    "            else:\n",
    "                self.map[index].append((key, value))\n",
    "        elif self.method == 'open addressing':\n",
    "            while self.map[index] is not None:\n",
    "                index = (index + 1) % self.size\n",
    "            self.map[index] = (key, value)\n",
    "\n",
    "    def search(self, key): #Метод для поиска элемента по ключу\n",
    "        index = self.hash_fun(key)\n",
    "        \n",
    "        if self.method == 'chaining':\n",
    "            if self.map[index] is not None:\n",
    "                for k, v in self.map[index]:\n",
    "                    if k == key:\n",
    "                        return v\n",
    "        elif self.method == 'open addressing':\n",
    "            initial_index = index\n",
    "            while self.map[index] is not None:\n",
    "                k, v = self.map[index]\n",
    "                if k == key:\n",
    "                    return v\n",
    "                index = (index + 1) % self.size\n",
    "                if index == initial_index:  # Проверка на зацикливание\n",
    "                    break\n",
    "        \n",
    "        return None"
   ]
  },
  {
   "cell_type": "code",
   "execution_count": 2,
   "id": "e405f33c",
   "metadata": {},
   "outputs": [
    {
     "name": "stdout",
     "output_type": "stream",
     "text": [
      "value1\n",
      "value2\n"
     ]
    }
   ],
   "source": [
    "# Пример использования\n",
    "my_map = MyMap(10, 'chaining')  # Создание экземпляра структуры данных map с методом разрешения коллизий через цепочки\n",
    "my_map.insert('key1', 'value1')\n",
    "my_map.insert('key2', 'value2')\n",
    "print(my_map.search('key1'))  # Выводит 'value1'\n",
    "\n",
    "my_map_open_address = MyMap(10, 'open addressing')  # Создание экземпляра структуры данных map с методом разрешения коллизий через открытую адресацию\n",
    "my_map_open_address.insert('key1', 'value1')\n",
    "my_map_open_address.insert('key2', 'value2')\n",
    "print(my_map_open_address.search('key2'))  # Выводит 'value2'"
   ]
  },
  {
   "cell_type": "code",
   "execution_count": null,
   "id": "f6327d58",
   "metadata": {},
   "outputs": [],
   "source": []
  }
 ],
 "metadata": {
  "kernelspec": {
   "display_name": "Python 3 (ipykernel)",
   "language": "python",
   "name": "python3"
  },
  "language_info": {
   "codemirror_mode": {
    "name": "ipython",
    "version": 3
   },
   "file_extension": ".py",
   "mimetype": "text/x-python",
   "name": "python",
   "nbconvert_exporter": "python",
   "pygments_lexer": "ipython3",
   "version": "3.11.5"
  }
 },
 "nbformat": 4,
 "nbformat_minor": 5
}
