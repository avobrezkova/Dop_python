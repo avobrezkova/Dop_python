{
 "cells": [
  {
   "cell_type": "markdown",
   "id": "8611814b",
   "metadata": {},
   "source": [
    "# Алгоритмы поиска подстрок. Часть 2"
   ]
  },
  {
   "cell_type": "markdown",
   "id": "26c4d799",
   "metadata": {},
   "source": [
    "Реализовать алгоритмы поиска подстрок:"
   ]
  },
  {
   "cell_type": "markdown",
   "id": "38002657",
   "metadata": {},
   "source": [
    "## Алгоритм Бойера-Мура."
   ]
  },
  {
   "cell_type": "code",
   "execution_count": 5,
   "id": "1f4d8ede",
   "metadata": {},
   "outputs": [],
   "source": [
    "def badHaracter(string, size):\n",
    "    badHar = [-1]*256\n",
    "    for i in range(size):\n",
    "        badHar[ord(string[i])] = i\n",
    "    return badHar\n",
    "\n",
    "def BoyerMoore(text, pois):\n",
    "    a = len(pois)\n",
    "    b = len(text)\n",
    "    badHar = badHaracter(pois, a)\n",
    "    s = 0\n",
    "    while(s <= b-a):\n",
    "        j = a-1\n",
    "        while j >= 0 and pois[j] == text[s+j]:\n",
    "            j -= 1\n",
    "        if j < 0:\n",
    "            print(\"Найдено вхождение подстроки на позиции\", s)\n",
    "            s += (a-badHar[ord(text[s+a])] if s+a < b else 1)\n",
    "        else:\n",
    "            s += max(1, j-badHar[ord(text[s+j])])"
   ]
  },
  {
   "cell_type": "markdown",
   "id": "16e53857",
   "metadata": {},
   "source": [
    "Работа алгоритма:"
   ]
  },
  {
   "cell_type": "code",
   "execution_count": 6,
   "id": "c0f62d5a",
   "metadata": {},
   "outputs": [
    {
     "name": "stdout",
     "output_type": "stream",
     "text": [
      "Найдено вхождение подстроки на позиции 12\n"
     ]
    }
   ],
   "source": [
    "text = \"ARTARTARTARTARTISTARTARTART\"\n",
    "pois = \"ARTI\"\n",
    "BoyerMoore(text, pois)"
   ]
  },
  {
   "cell_type": "markdown",
   "id": "0d051037",
   "metadata": {},
   "source": [
    "## Алгоритм Кнута-Морриса-Пратта"
   ]
  },
  {
   "cell_type": "code",
   "execution_count": null,
   "id": "862664cf",
   "metadata": {},
   "outputs": [],
   "source": [
    "def computLPSarray(pois):\n",
    "    length = 0\n",
    "    lps = [0] * len(pois)\n",
    "    i = 1\n",
    "    while i < len(pois):\n",
    "        if pois[i] == pois[length]:\n",
    "            length += 1\n",
    "            lps[i] = length\n",
    "            i += 1\n",
    "        else:\n",
    "            if length != 0:\n",
    "                length = lps[length - 1]\n",
    "            else:\n",
    "                lps[i] = 0\n",
    "                i += 1\n",
    "    return lps\n",
    "\n",
    "def KMP(text, pois):\n",
    "    A = len(pois)\n",
    "    B = len(text)\n",
    "    lps = computLPSarray(pois)\n",
    "    \n",
    "    i = 0\n",
    "    j = 0\n",
    "    while i < B:\n",
    "        if pois[j] == text[i]:\n",
    "            i += 1\n",
    "            j += 1\n",
    "\n",
    "        if j == A:\n",
    "            print(\"Найдено вхождение на позиции\", i - j)\n",
    "            j = lps[j - 1]\n",
    "        elif i < B and pois[j] != text[i]:\n",
    "            if j != 0:\n",
    "                j = lps[j - 1]\n",
    "            else:\n",
    "                i += 1\n",
    "\n",
    "text = \"ABABDABACDABABCABAB\"\n",
    "pois = \"ABABCABAB\"\n",
    "KMP(text, pois)"
   ]
  }
 ],
 "metadata": {
  "kernelspec": {
   "display_name": "Python 3 (ipykernel)",
   "language": "python",
   "name": "python3"
  },
  "language_info": {
   "codemirror_mode": {
    "name": "ipython",
    "version": 3
   },
   "file_extension": ".py",
   "mimetype": "text/x-python",
   "name": "python",
   "nbconvert_exporter": "python",
   "pygments_lexer": "ipython3",
   "version": "3.11.5"
  }
 },
 "nbformat": 4,
 "nbformat_minor": 5
}
