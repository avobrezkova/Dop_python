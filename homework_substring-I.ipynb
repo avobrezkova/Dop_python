{
 "cells": [
  {
   "cell_type": "markdown",
   "id": "85e5f089",
   "metadata": {},
   "source": [
    "# Задача \"Алгоритмы поиска подстрок. Часть 1.\""
   ]
  },
  {
   "cell_type": "markdown",
   "id": "6f7f8e49",
   "metadata": {},
   "source": [
    "Реализовать алгоритмы поиска подстрок:"
   ]
  },
  {
   "cell_type": "markdown",
   "id": "a023ce61",
   "metadata": {},
   "source": [
    "## 1. Алгоритм Рабина-Карпа."
   ]
  },
  {
   "cell_type": "code",
   "execution_count": 3,
   "id": "fadafee4",
   "metadata": {},
   "outputs": [],
   "source": [
    "def rabin_karp(text, pattern):\n",
    "    d = 256  # Размер алфавита (ASCII символов)\n",
    "    q = 101  # Простое число\n",
    "    n = len(text)\n",
    "    m = len(pattern)\n",
    "    h = pow(d, m-1) % q\n",
    "    p = 0  # Хеш для подстроки\n",
    "    t = 0  # Хеш для текста\n",
    "\n",
    "    # Вычисление хеша для подстроки и первой подстроки текста\n",
    "    for i in range(m):\n",
    "        p = (d*p + ord(pattern[i])) % q\n",
    "        t = (d*t + ord(text[i])) % q\n",
    "\n",
    "    # Поиск вхождений\n",
    "    for i in range(n - m + 1):\n",
    "        if p == t:\n",
    "            match = True\n",
    "            for j in range(m):\n",
    "                if pattern[j] != text[i+j]:\n",
    "                    match = False\n",
    "                    break\n",
    "            if match:\n",
    "                print(\"Найдено вхождение подстроки на позиции\", i)\n",
    "\n",
    "        if i < n - m:\n",
    "            t = (d*(t-ord(text[i])*h) + ord(text[i+m])) % q\n",
    "            if t < 0:\n",
    "                t = t + q"
   ]
  },
  {
   "cell_type": "markdown",
   "id": "b1af6787",
   "metadata": {},
   "source": [
    "Работа алгоритма:"
   ]
  },
  {
   "cell_type": "code",
   "execution_count": 4,
   "id": "3bc32419",
   "metadata": {},
   "outputs": [
    {
     "name": "stdout",
     "output_type": "stream",
     "text": [
      "Найдено вхождение подстроки на позиции 17\n"
     ]
    }
   ],
   "source": [
    "text = \"Буря мглою небо кроет. Вихри снежные крутя. То как зверь она завоет, то заплачет как дитя\"\n",
    "pattern = \"рое\"\n",
    "rabin_karp(text, pattern)"
   ]
  },
  {
   "cell_type": "markdown",
   "id": "7744aa49",
   "metadata": {},
   "source": [
    "## Алгоритм на основе конечного автомата."
   ]
  },
  {
   "cell_type": "code",
   "execution_count": 6,
   "id": "2234288b",
   "metadata": {},
   "outputs": [],
   "source": [
    "NO_OF_CHARS = 256\n",
    "\n",
    "def NextState(pois, A, state, x):\n",
    "    if state < A and x == ord(pois[state]):\n",
    "        return state+1\n",
    "\n",
    "    i = 0\n",
    "    for k in range(state,0,-1):\n",
    "        if ord(pois[k-1]) == x:\n",
    "            while i<k-1:\n",
    "                if pois[i] != pois[state-k+1+i]:\n",
    "                    break\n",
    "                i += 1\n",
    "            if i == k-1:\n",
    "                return k\n",
    "    return 0\n",
    "\n",
    "def compTF(pois, A, TF):\n",
    "    for state in range(A+1):\n",
    "        for x in range(NO_OF_CHARS):\n",
    "            TF[state][x] = NextState(pois, A, state, x)\n",
    "\n",
    "def finit_automat(pois, text):\n",
    "    A = len(pois)\n",
    "    B = len(text)\n",
    "    TF = [[0]*NO_OF_CHARS for _ in range(A+1)]\n",
    "\n",
    "    compTF(pois, A, TF)\n",
    "\n",
    "    state = 0\n",
    "    for i in range(B):\n",
    "        state = TF[state][ord(text[i])]\n",
    "        if state == A:\n",
    "            print(\"Найдено вхождение подстроки на позиции\", i-A+1)"
   ]
  },
  {
   "cell_type": "markdown",
   "id": "88047fbe",
   "metadata": {},
   "source": [
    "Работа алгоритма:"
   ]
  },
  {
   "cell_type": "code",
   "execution_count": 8,
   "id": "55e430b0",
   "metadata": {},
   "outputs": [
    {
     "name": "stdout",
     "output_type": "stream",
     "text": [
      "Найдено вхождение подстроки на позиции 15\n"
     ]
    }
   ],
   "source": [
    "text = \"ARTARTARTARTARTARTISTARTARTARTART\"\n",
    "pois = \"ARTI\"\n",
    "finit_automat(pois, text)"
   ]
  },
  {
   "cell_type": "code",
   "execution_count": null,
   "id": "a78aa87f",
   "metadata": {},
   "outputs": [],
   "source": []
  }
 ],
 "metadata": {
  "kernelspec": {
   "display_name": "Python 3 (ipykernel)",
   "language": "python",
   "name": "python3"
  },
  "language_info": {
   "codemirror_mode": {
    "name": "ipython",
    "version": 3
   },
   "file_extension": ".py",
   "mimetype": "text/x-python",
   "name": "python",
   "nbconvert_exporter": "python",
   "pygments_lexer": "ipython3",
   "version": "3.11.5"
  }
 },
 "nbformat": 4,
 "nbformat_minor": 5
}
