{
 "cells": [
  {
   "cell_type": "markdown",
   "id": "04030e93",
   "metadata": {},
   "source": [
    "# Код Хаффмана"
   ]
  },
  {
   "cell_type": "markdown",
   "id": "dabd8c09",
   "metadata": {},
   "source": [
    "Реализовать алгоритм кодирования Хаффамна."
   ]
  },
  {
   "cell_type": "code",
   "execution_count": 1,
   "id": "0ef9b2a6",
   "metadata": {},
   "outputs": [],
   "source": [
    "import heapq\n",
    "from collections import defaultdict\n",
    "\n",
    "class Node: #Класс Node, представляет узел в дереве Хаффмана\n",
    "    def __init__(self, char, freq):\n",
    "        self.char = char #символ \n",
    "        self.freq = freq #частота\n",
    "        self.left = None\n",
    "        self.right = None\n",
    "\n",
    "    def __lt__(self, other):\n",
    "        return self.freq < other.freq\n",
    "\n",
    "def huffman_tree(freq_dict): #построение дерева Хаффмана\n",
    "    prior_queue = [Node(char, freq) for char, freq in freq_dict.items()]\n",
    "    heapq.heapify(prior_queue)\n",
    "\n",
    "    while len(prior_queue) > 1:\n",
    "        left = heapq.heappop(prior_queue)\n",
    "        right = heapq.heappop(prior_queue)\n",
    "\n",
    "        merged = Node(None, left.freq + right.freq)\n",
    "        merged.left = left\n",
    "        merged.right = right\n",
    "\n",
    "        heapq.heappush(prior_queue, merged)\n",
    "\n",
    "    return prior_queue[0]\n",
    "\n",
    "def huffman_codes(node, current_code, huff_codes): #построение кодов Хаффмана для символов\n",
    "    if node is None:\n",
    "        return\n",
    "\n",
    "    if node.char is not None:\n",
    "        huff_codes[node.char] = current_code\n",
    "        return\n",
    "\n",
    "    huffman_codes(node.left, current_code + '0', huff_codes)\n",
    "    huffman_codes(node.right, current_code + '1', huff_codes)\n",
    "\n",
    "def huffman_encoding(text): #кодировка текста с использованием кодов Хаффмана\n",
    "    freq_dict = defaultdict(int)\n",
    "    for char in text:\n",
    "        freq_dict[char] += 1\n",
    "\n",
    "    root = huffman_tree(freq_dict)\n",
    "    \n",
    "    huff_codes = {}\n",
    "    huffman_codes(root, '', huff_codes)\n",
    "\n",
    "    zak_text = ''.join(huff_codes[char] for char in text)\n",
    "    \n",
    "    return zak_text, root\n",
    "\n",
    "def huffman_decoding(zak_text, root): #декодировка закодированного текста\n",
    "    dec_text = ''\n",
    "    current_node = root\n",
    "\n",
    "    for bit in zak_text:\n",
    "        if bit == '0':\n",
    "            current_node = current_node.left\n",
    "        else:\n",
    "            current_node = current_node.right\n",
    "\n",
    "        if current_node.char is not None:\n",
    "            dec_text += current_node.char\n",
    "            current_node = root\n",
    "\n",
    "    return dec_text"
   ]
  },
  {
   "cell_type": "markdown",
   "id": "a4e46cdb",
   "metadata": {},
   "source": [
    "Работа алгоритма:"
   ]
  },
  {
   "cell_type": "code",
   "execution_count": 2,
   "id": "f647e1fe",
   "metadata": {},
   "outputs": [
    {
     "name": "stdout",
     "output_type": "stream",
     "text": [
      "Исходный текст: hello world\n",
      "Закодированный текст: 11100001010110111101111001010001\n",
      "Декодированный текст: hello world\n"
     ]
    }
   ],
   "source": [
    "# Пример использования\n",
    "text = \"Буря мглою небо кроет, вихри снежные крутя.\"\n",
    "zak_text, tree_root = huffman_encoding(text)\n",
    "dec_text = huffman_decoding(zak_text, tree_root)\n",
    "\n",
    "print(\"Исходный текст:\", text)\n",
    "print(\"Закодированный текст:\", zak_text)\n",
    "print(\"Декодированный текст:\", dec_text)"
   ]
  },
  {
   "cell_type": "code",
   "execution_count": null,
   "id": "2c961ceb",
   "metadata": {},
   "outputs": [],
   "source": []
  }
 ],
 "metadata": {
  "kernelspec": {
   "display_name": "Python 3 (ipykernel)",
   "language": "python",
   "name": "python3"
  },
  "language_info": {
   "codemirror_mode": {
    "name": "ipython",
    "version": 3
   },
   "file_extension": ".py",
   "mimetype": "text/x-python",
   "name": "python",
   "nbconvert_exporter": "python",
   "pygments_lexer": "ipython3",
   "version": "3.11.5"
  }
 },
 "nbformat": 4,
 "nbformat_minor": 5
}
